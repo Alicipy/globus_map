{
 "cells": [
  {
   "cell_type": "code",
   "execution_count": null,
   "id": "0",
   "metadata": {},
   "outputs": [],
   "source": [
    "import pathlib\n",
    "\n",
    "import geopandas as gpd\n",
    "import pandas as pd\n",
    "import panel as pn\n",
    "import pydeck as pdk\n",
    "\n",
    "pn.extension(\"deckgl\")"
   ]
  },
  {
   "cell_type": "code",
   "execution_count": null,
   "id": "1",
   "metadata": {},
   "outputs": [],
   "source": [
    "# See data/README.md to download this file\n",
    "DATA_ROOT_PATH = pathlib.Path().absolute().parent / \"data\""
   ]
  },
  {
   "cell_type": "code",
   "execution_count": null,
   "id": "2",
   "metadata": {},
   "outputs": [],
   "source": [
    "community_next_globus_info = gpd.read_parquet(\n",
    "    DATA_ROOT_PATH / \"processed\" / \"german_communities.parquet\",\n",
    ")\n",
    "community_next_globus_info[\"distance_km\"] = round(community_next_globus_info[\"distance\"] / 1000, 2)\n",
    "community_next_globus_info"
   ]
  },
  {
   "cell_type": "code",
   "execution_count": null,
   "id": "3",
   "metadata": {},
   "outputs": [],
   "source": [
    "globus_positions = pd.read_csv(DATA_ROOT_PATH / \"processed\" / \"globus_info.csv\", sep=\";\")\n",
    "globus_positions[\"geometry\"] = list(\n",
    "    zip(globus_positions[\"lon\"], globus_positions[\"lat\"], strict=False),\n",
    ")\n",
    "globus_positions"
   ]
  },
  {
   "cell_type": "code",
   "execution_count": null,
   "id": "4",
   "metadata": {},
   "outputs": [],
   "source": [
    "INITIAL_VIEW_STATE = pdk.ViewState(latitude=51.3, longitude=10, zoom=6, max_zoom=16, bearing=0)\n",
    "\n",
    "\n",
    "geojson = pdk.Layer(\n",
    "    \"GeoJsonLayer\",\n",
    "    community_next_globus_info,\n",
    "    opacity=0.5,\n",
    "    stroked=True,\n",
    "    filled=True,\n",
    "    get_fill_color=[\n",
    "        \"(distance_km / 200) * 255\",\n",
    "        \"255 - ((distance_km / 200) * 255)\",\n",
    "        \"(distance_km / 200) * 255\",\n",
    "    ],\n",
    "    get_line_color=[0, 0, 0],\n",
    "    auto_highlight=True,\n",
    "    pickable=True,\n",
    ")\n",
    "point_layer = pdk.Layer(\n",
    "    \"ScatterplotLayer\",\n",
    "    globus_positions,\n",
    "    opacity=0.8,\n",
    "    stroked=True,\n",
    "    filled=True,\n",
    "    get_fill_color=[255, 255, 255],\n",
    "    get_position=\"geometry\",\n",
    "    radius_scale=1,\n",
    "    radius_min_pixels=3,\n",
    "    radius_max_pixels=10,\n",
    "    get_radius=10,\n",
    "    line_width_min_pixels=1,\n",
    ")\n",
    "\n",
    "tooltip = {\"text\": \"Community: {community}\\nNext: {name}, {location}\\nDistance: {distance_km} km\"}\n",
    "\n",
    "pdk_deck = pdk.Deck(\n",
    "    layers=[geojson, point_layer],\n",
    "    initial_view_state=INITIAL_VIEW_STATE,\n",
    "    tooltip=tooltip,\n",
    "    map_style=\"\",\n",
    "    map_provider=None,\n",
    ")\n",
    "\n",
    "pn.pane.DeckGL(pdk_deck, sizing_mode=\"stretch_both\", min_height=1200).servable()"
   ]
  }
 ],
 "metadata": {
  "kernelspec": {
   "display_name": "Python 3 (ipykernel)",
   "language": "python",
   "name": "python3"
  },
  "language_info": {
   "codemirror_mode": {
    "name": "ipython",
    "version": 3
   },
   "file_extension": ".py",
   "mimetype": "text/x-python",
   "name": "python",
   "nbconvert_exporter": "python",
   "pygments_lexer": "ipython3",
   "version": "3.12.2"
  }
 },
 "nbformat": 4,
 "nbformat_minor": 5
}
