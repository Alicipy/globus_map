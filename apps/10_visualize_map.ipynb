{
 "cells": [
  {
   "cell_type": "code",
   "execution_count": null,
   "id": "0",
   "metadata": {},
   "outputs": [],
   "source": [
    "import pathlib\n",
    "\n",
    "import geopandas as gpd\n",
    "import pandas as pd\n",
    "import panel as pn\n",
    "import pydeck as pdk\n",
    "\n",
    "pn.extension(\"deckgl\")"
   ]
  },
  {
   "cell_type": "code",
   "execution_count": null,
   "id": "1",
   "metadata": {},
   "outputs": [],
   "source": [
    "# See data/README.md to download this file\n",
    "DATA_ROOT_PATH = pathlib.Path().absolute().parent / \"data\""
   ]
  },
  {
   "cell_type": "code",
   "execution_count": null,
   "id": "2",
   "metadata": {},
   "outputs": [],
   "source": [
    "community_next_globus_info = gpd.read_parquet(\n",
    "    DATA_ROOT_PATH / \"processed\" / \"german_communities.parquet\",\n",
    ")\n",
    "community_next_globus_info[\"distance_km\"] = community_next_globus_info[\"distance\"].apply(\n",
    "    lambda d: f\"{(d / 1000):.2f}\",\n",
    ")\n",
    "community_next_globus_info"
   ]
  },
  {
   "cell_type": "code",
   "execution_count": null,
   "id": "3",
   "metadata": {},
   "outputs": [],
   "source": [
    "globus_positions = pd.read_csv(DATA_ROOT_PATH / \"processed\" / \"globus_info.csv\", sep=\";\")\n",
    "globus_positions[\"geometry\"] = list(\n",
    "    zip(globus_positions[\"lon\"], globus_positions[\"lat\"], strict=False),\n",
    ")\n",
    "globus_positions[\"lon_fmt\"] = globus_positions[\"lon\"].apply(lambda d: f\"{d:.6f}\")\n",
    "globus_positions[\"lat_fmt\"] = globus_positions[\"lat\"].apply(lambda d: f\"{d:.6f}\")\n",
    "globus_positions"
   ]
  },
  {
   "cell_type": "code",
   "execution_count": null,
   "id": "4",
   "metadata": {},
   "outputs": [],
   "source": [
    "extended_community_info = community_next_globus_info.join(\n",
    "    globus_positions[[\"name\", \"location\"]],\n",
    "    on=\"globus_row\",\n",
    ")\n",
    "extended_community_info"
   ]
  },
  {
   "cell_type": "code",
   "execution_count": null,
   "id": "5",
   "metadata": {},
   "outputs": [],
   "source": [
    "INITIAL_VIEW_STATE = pdk.ViewState(latitude=51.3, longitude=10, zoom=6, max_zoom=16, bearing=0)\n",
    "\n",
    "geojson = pdk.Layer(\n",
    "    \"GeoJsonLayer\",\n",
    "    extended_community_info,\n",
    "    opacity=0.5,\n",
    "    stroked=True,\n",
    "    filled=True,\n",
    "    get_fill_color=[\n",
    "        \"(distance_km / 200) * 255\",\n",
    "        \"255 - ((distance_km / 200) * 255)\",\n",
    "        \"(distance_km / 200) * 255\",\n",
    "    ],\n",
    "    get_line_color=[0, 0, 0],\n",
    "    auto_highlight=True,\n",
    "    pickable=True,\n",
    ")\n",
    "point_layer = pdk.Layer(\n",
    "    \"ScatterplotLayer\",\n",
    "    globus_positions,\n",
    "    opacity=0.8,\n",
    "    stroked=True,\n",
    "    filled=True,\n",
    "    get_fill_color=[255, 255, 255],\n",
    "    get_position=\"geometry\",\n",
    "    radius_scale=1,\n",
    "    radius_min_pixels=5,\n",
    "    radius_max_pixels=10,\n",
    "    get_radius=10,\n",
    "    line_width_min_pixels=1,\n",
    "    auto_highlight=True,\n",
    "    pickable=True,\n",
    ")\n",
    "\n",
    "community_tooltip = {\"text\": \"Community: {community}\\nNext: {name}\\nDistance: {distance_km} km\"}\n",
    "globus_tooltip = {\"text\": \"Name: {name}\\nLocation: {location}\\nCoordinates: ({lon_fmt}, {lat_fmt})\"}\n",
    "\n",
    "tooltips = {\n",
    "    geojson.id: community_tooltip,\n",
    "    point_layer.id: globus_tooltip,\n",
    "}\n",
    "\n",
    "pdk_deck = pdk.Deck(\n",
    "    layers=[geojson, point_layer],\n",
    "    initial_view_state=INITIAL_VIEW_STATE,\n",
    "    tooltip=tooltips,\n",
    "    map_provider=None,\n",
    ")\n",
    "\n",
    "globus_map = pn.pane.DeckGL(pdk_deck, sizing_mode=\"stretch_width\", min_height=1200)\n",
    "globus_map"
   ]
  },
  {
   "cell_type": "code",
   "execution_count": null,
   "id": "6",
   "metadata": {},
   "outputs": [],
   "source": [
    "overview_text = pn.pane.Markdown(\n",
    "    \"\"\"\n",
    "This interactive map provides a visual representation of the proximity of \\\n",
    "Globus supermarkets to various communities across Germany. Each element of the map has been \\\n",
    "thoughtfully designed to enhance user understanding of the distances involved.\n",
    "\n",
    "The white dots on the map indicate the precise locations of Globus supermarkets, \\\n",
    "serving as reference points for users to identify their proximity to these stores. \\\n",
    "Surrounding these points are color-coded community polygons, which are shaded according \\\n",
    "to the distance to the nearest Globus supermarket. A vibrant green hue signifies that a \\\n",
    "community is situated close to a Globus store, while a deeper purple indicates a greater distance.\n",
    "\n",
    "As you hover over each community polygon, a tooltip appears, displaying key information: \\\n",
    "the name of the community along with the calculated distance to the nearest Globus supermarket. \\\n",
    "This distance is measured \"as the crow flies,\" representing the shortest path from the geographic \\\n",
    "center of the community to the nearest store location.\n",
    "\"\"\",\n",
    "    sizing_mode=\"stretch_both\",\n",
    ")\n",
    "overview_text"
   ]
  },
  {
   "cell_type": "code",
   "execution_count": null,
   "id": "7",
   "metadata": {},
   "outputs": [],
   "source": [
    "data_text = pn.pane.Markdown(\n",
    "    \"\"\"\n",
    "This map is based on two data sources.\n",
    "\n",
    "The geographic data is derived from the dataset titled [Verwaltungsgebiete 1:5 000 000, Stand \\\n",
    "31.12. (VG5000 31.12.)](https://gdz.bkg.bund.de/index.php/default/digitale-geodaten/\\\n",
    "verwaltungsgebiete/verwaltungsgebiete-1-5-000-000-stand-31-12-vg5000-12-31.html), \\\n",
    "raised and copyright by © GeoBasis-DE / BKG (2024), \\\n",
    "which is freely available for use.\n",
    "\n",
    "Market information for Globus was extracted from the [Globus Market location overview]\\\n",
    "(https://www.globus.de/maerkte.php). I then utilized \\\n",
    "[Nominatim](https://nominatim.openstreetmap.org/) from OpenStreetMap to \\\n",
    "manually search for the precise location\\\\ of the markets. The OSM data is shared under the \\\n",
    "[Open Data Commons Open Database License (ODbL)](https://opendatacommons.org/licenses/odbl/).\n",
    "\"\"\",\n",
    "    sizing_mode=\"stretch_both\",\n",
    ")\n",
    "data_text"
   ]
  },
  {
   "cell_type": "code",
   "execution_count": null,
   "id": "8",
   "metadata": {},
   "outputs": [],
   "source": [
    "template = pn.template.ReactTemplate(title=\"Globus Map\", prevent_collision=True)\n",
    "\n",
    "text_content = pn.Tabs(\n",
    "    (\"Overview\", overview_text),\n",
    "    (\"Data\", data_text),\n",
    "    styles={\"font-size\": \"18px\", \"--bokeh-font-size\": \"16px\"},\n",
    ")\n",
    "template.main[:8, :7] = globus_map\n",
    "template.main[:8, 7:11] = text_content\n",
    "template.servable()"
   ]
  },
  {
   "cell_type": "code",
   "execution_count": null,
   "id": "9",
   "metadata": {},
   "outputs": [],
   "source": []
  }
 ],
 "metadata": {
  "kernelspec": {
   "display_name": "Python 3 (ipykernel)",
   "language": "python",
   "name": "python3"
  },
  "language_info": {
   "codemirror_mode": {
    "name": "ipython",
    "version": 3
   },
   "file_extension": ".py",
   "mimetype": "text/x-python",
   "name": "python",
   "nbconvert_exporter": "python",
   "pygments_lexer": "ipython3",
   "version": "3.12.2"
  }
 },
 "nbformat": 4,
 "nbformat_minor": 5
}
