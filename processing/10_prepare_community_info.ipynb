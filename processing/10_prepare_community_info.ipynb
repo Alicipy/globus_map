{
 "cells": [
  {
   "cell_type": "code",
   "execution_count": null,
   "id": "0",
   "metadata": {},
   "outputs": [],
   "source": [
    "import pathlib\n",
    "\n",
    "import geopandas as gpd\n",
    "import pandas as pd"
   ]
  },
  {
   "cell_type": "code",
   "execution_count": null,
   "id": "1",
   "metadata": {},
   "outputs": [],
   "source": [
    "DATA_ROOT_PATH = pathlib.Path().absolute().parent / \"data\""
   ]
  },
  {
   "cell_type": "code",
   "execution_count": null,
   "id": "2",
   "metadata": {},
   "outputs": [],
   "source": [
    "# See data/README.md to download this file\n",
    "german_vg_df = gpd.read_file(DATA_ROOT_PATH / \"external\" / \"DE_VG5000.gpkg\", layer=\"vg5000_vwg\")"
   ]
  },
  {
   "cell_type": "code",
   "execution_count": null,
   "id": "3",
   "metadata": {},
   "outputs": [],
   "source": [
    "german_vg_stripped_df = german_vg_df.loc[:, [\"OBJID\", \"GEN\", \"geometry\"]]\n",
    "german_vg_stripped_df"
   ]
  },
  {
   "cell_type": "code",
   "execution_count": null,
   "id": "4",
   "metadata": {},
   "outputs": [],
   "source": [
    "german_vg_calculated = german_vg_stripped_df\n",
    "german_vg_calculated.loc[:, \"center\"] = german_vg_calculated.geometry.centroid\n",
    "german_vg_calculated"
   ]
  },
  {
   "cell_type": "code",
   "execution_count": null,
   "id": "5",
   "metadata": {},
   "outputs": [],
   "source": [
    "globus_df = pd.read_csv(DATA_ROOT_PATH / \"processed\" / \"globus_info.csv\", sep=\";\")\n",
    "globus_positions = gpd.GeoDataFrame(\n",
    "    globus_df,\n",
    "    geometry=gpd.GeoSeries.from_xy(globus_df[\"lon\"], globus_df[\"lat\"]),\n",
    "    crs=4326,\n",
    ")\n",
    "globus_positions = globus_positions.drop(columns=[\"lat\", \"lon\"])\n",
    "globus_positions = globus_positions.to_crs(epsg=25832)\n",
    "globus_positions"
   ]
  },
  {
   "cell_type": "code",
   "execution_count": null,
   "id": "6",
   "metadata": {},
   "outputs": [],
   "source": [
    "community_next_globus_info_full = gpd.sjoin_nearest(\n",
    "    german_vg_calculated.set_geometry(\"center\"),\n",
    "    globus_positions,\n",
    "    distance_col=\"distance\",\n",
    "    lsuffix=\"left\",\n",
    "    rsuffix=\"right\",\n",
    "    exclusive=True,\n",
    ")\n",
    "community_next_globus_info_full"
   ]
  },
  {
   "cell_type": "code",
   "execution_count": null,
   "id": "7",
   "metadata": {},
   "outputs": [],
   "source": [
    "community_next_globus_info = (\n",
    "    community_next_globus_info_full[[\"GEN\", \"distance\", \"geometry\", \"index_right\"]]\n",
    "    .set_geometry(\"geometry\")\n",
    "    .to_crs(crs=4326)\n",
    ")\n",
    "community_next_globus_info = community_next_globus_info.rename(\n",
    "    columns={\"GEN\": \"community\", \"index_right\": \"globus_row\"},\n",
    ").astype({\"community\": \"string\", \"distance\": \"float32\", \"globus_row\": \"int8\"})\n",
    "community_next_globus_info.to_parquet(DATA_ROOT_PATH / \"processed\" / \"german_communities.parquet\")"
   ]
  },
  {
   "cell_type": "code",
   "execution_count": null,
   "id": "8",
   "metadata": {},
   "outputs": [],
   "source": []
  },
  {
   "cell_type": "code",
   "execution_count": null,
   "id": "9",
   "metadata": {},
   "outputs": [],
   "source": []
  },
  {
   "cell_type": "code",
   "execution_count": null,
   "id": "10",
   "metadata": {},
   "outputs": [],
   "source": []
  }
 ],
 "metadata": {
  "kernelspec": {
   "display_name": "Python 3 (ipykernel)",
   "language": "python",
   "name": "python3"
  },
  "language_info": {
   "codemirror_mode": {
    "name": "ipython",
    "version": 3
   },
   "file_extension": ".py",
   "mimetype": "text/x-python",
   "name": "python",
   "nbconvert_exporter": "python",
   "pygments_lexer": "ipython3",
   "version": "3.12.2"
  }
 },
 "nbformat": 4,
 "nbformat_minor": 5
}
